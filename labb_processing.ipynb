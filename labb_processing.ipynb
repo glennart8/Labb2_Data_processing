{
 "cells": [
  {
   "cell_type": "markdown",
   "metadata": {},
   "source": [
    "Alla grafer ska exporteras till en undermapp som heter visualiseringar i ditt repo för labben. Exportera matplotlib grafer\n",
    "i png-format och plotly-grafer som html-filer. Ge relevanta namn till dina filer så det blir lätt att referera till dem.\n",
    "Tänk på data storytelling, graferna du skapar ska ha lämpliga rubriker, labels, annoteringar mm.\n",
    "Uppgift 1\n",
    "I den här uppgiften ska du visualisera med hjälp av matplotlib\n",
    "a) Börja med att läsa in filen riket2023_åk9_np.xlsx och sheets för de olika ämnena (engelska, matematik, svenska,\n",
    "svenska som andraspråk). Ändra kolumnnamnen på respektive dataframe så du får något liknande som nedan.\n",
    "Plats   Huvudman  Totalt(A-F)   Flickor(A-F)  Pojkar(A-F) Totalt(A-E) Flickor(A-E)   Pojkar(A-E)  Totalt(poäng)   Flickor(poäng)  Pojkar(poäng)\n",
    "\n",
    "Riket   Samtliga    93225       45800         47425         96.1        97.9        94.4            13.6            14.5            12.7\n",
    "Riket   Kommunal    72771       35484         37287         95.7        97.6        93.8            13.3            14.3            12.4\n",
    "Riket   Enskild     20414       10297         10117         97.6          98.7      96.6            14.4            15.2            13.5\n",
    "Riket   Skolverket  40          19            21 100        100         100         15              15.9            14.2\n",
    "\n",
    "b) För de olika ämnena, rita en stapeldiagram på totala poängen för de olika huvudmännen. Placera alla diagram i en\n",
    "plott med subplottar"
   ]
  }
 ],
 "metadata": {
  "language_info": {
   "name": "python"
  }
 },
 "nbformat": 4,
 "nbformat_minor": 2
}
